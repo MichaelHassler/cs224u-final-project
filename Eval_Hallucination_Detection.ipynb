{
  "cells": [
    {
      "cell_type": "code",
      "execution_count": 1,
      "id": "55e4c504",
      "metadata": {
        "id": "55e4c504",
        "metadata": {}
      },
      "outputs": [],
      "source": [
        "from datasets import load_dataset\n",
        "import openai\n",
        "import os\n",
        "import itertools\n",
        "import logging\n",
        "import sys\n",
        "\n",
        "import dill as pickle\n",
        "import dspy\n",
        "from dsp.utils import deduplicate\n",
        "from dspy.teleprompt import BootstrapFewShot, LabeledFewShot, BayesianSignatureOptimizer, BootstrapFewShotWithRandomSearch\n",
        "from dspy.evaluate import answer_exact_match, answer_passage_match\n",
        "from dspy.evaluate.evaluate import Evaluate\n",
        "from dsp.utils import deduplicate\n",
        "from dspy.primitives import module\n",
        "\n",
        "from copy import copy\n",
        "import random\n",
        "import json\n",
        "import tqdm\n",
        "import pickle\n",
        "import pandas as pd\n",
        "from pandas import json_normalize\n",
        "import numpy as np\n",
        "\n",
        "import models\n",
        "\n",
        "random.seed(1)"
      ]
    },
    {
      "cell_type": "code",
      "execution_count": 2,
      "id": "b9f1fe41",
      "metadata": {
        "metadata": {}
      },
      "outputs": [
        {
          "data": {
            "text/plain": [
              "True"
            ]
          },
          "execution_count": 2,
          "metadata": {},
          "output_type": "execute_result"
        }
      ],
      "source": [
        "from dotenv import load_dotenv\n",
        "\n",
        "load_dotenv() "
      ]
    },
    {
      "cell_type": "markdown",
      "id": "fbf1881d-f52e-4239-a126-cbbc290a6cb0",
      "metadata": {
        "id": "fbf1881d-f52e-4239-a126-cbbc290a6cb0"
      },
      "source": [
        "## LM and RM"
      ]
    },
    {
      "cell_type": "code",
      "execution_count": 3,
      "id": "35b85a53",
      "metadata": {
        "id": "35b85a53",
        "metadata": {}
      },
      "outputs": [],
      "source": [
        "# setting lm and rm in dspy\n",
        "openai_key = os.environ[\"OPENAI_API_KEY\"]\n",
        "colbert_server = 'http://index.contextual.ai:8893/api/search'\n",
        "\n",
        "lm = dspy.OpenAI(model='gpt-3.5-turbo', api_key=openai_key)\n",
        "rm = dspy.ColBERTv2(url=colbert_server)\n",
        "dspy.settings.configure(lm=lm, rm=rm)"
      ]
    },
    {
      "cell_type": "markdown",
      "id": "bb2f639e-927c-4113-bca3-bf280b405bf2",
      "metadata": {
        "id": "bb2f639e-927c-4113-bca3-bf280b405bf2"
      },
      "source": [
        "## Dataset"
      ]
    },
    {
      "cell_type": "code",
      "execution_count": 4,
      "id": "ee7a4f17",
      "metadata": {
        "id": "ee7a4f17",
        "metadata": {}
      },
      "outputs": [],
      "source": [
        "# dataset download and split\n",
        "def get_squad_split(squad, split=\"validation\"):\n",
        "    data = zip(*[squad[split][field] for field in squad[split].features])\n",
        "    exs = [dspy.Example(question=q, answer=a['text'][0]).with_inputs(\"question\")\n",
        "           for eid, title, context, q, a in data]\n",
        "    return exs\n",
        "\n",
        "squad = load_dataset(\"squad\")\n",
        "squad_train = get_squad_split(squad, split=\"train\")\n",
        "squad_dev = get_squad_split(squad)\n",
        "dev_exs = random.sample(squad_dev, k=20)"
      ]
    },
    {
      "cell_type": "code",
      "execution_count": 5,
      "id": "a2aebe2f",
      "metadata": {
        "id": "a2aebe2f",
        "metadata": {}
      },
      "outputs": [],
      "source": [
        "def get_squad_df(squad, split=\"validation\", sample = False, sample_size = 50):\n",
        "    data = squad[split]\n",
        "    df = pd.json_normalize(data)\n",
        "    if sample == True:\n",
        "        df = df.sample(n=sample_size, random_state=1).reset_index(drop=True)\n",
        "    df['answer'] = df['answers.text'].apply(lambda x: x[0])\n",
        "    # df.rename({'answers.text': 'answer'}, axis=1, inplace=True)\n",
        "    df = df[['context', 'question', 'answer']]\n",
        "    return df"
      ]
    },
    {
      "cell_type": "code",
      "execution_count": 6,
      "id": "b9af417c",
      "metadata": {
        "id": "b9af417c",
        "metadata": {},
        "outputId": "ca3e1fee-d1de-4cc4-99c8-2bf3c51becbd",
        "scrolled": true
      },
      "outputs": [
        {
          "data": {
            "text/html": [
              "<div>\n",
              "<style scoped>\n",
              "    .dataframe tbody tr th:only-of-type {\n",
              "        vertical-align: middle;\n",
              "    }\n",
              "\n",
              "    .dataframe tbody tr th {\n",
              "        vertical-align: top;\n",
              "    }\n",
              "\n",
              "    .dataframe thead th {\n",
              "        text-align: right;\n",
              "    }\n",
              "</style>\n",
              "<table border=\"1\" class=\"dataframe\">\n",
              "  <thead>\n",
              "    <tr style=\"text-align: right;\">\n",
              "      <th></th>\n",
              "      <th>context</th>\n",
              "      <th>question</th>\n",
              "      <th>answer</th>\n",
              "    </tr>\n",
              "  </thead>\n",
              "  <tbody>\n",
              "    <tr>\n",
              "      <th>0</th>\n",
              "      <td>On the next day, December 18, protests turned ...</td>\n",
              "      <td>How many people were estimated by authorities ...</td>\n",
              "      <td>3,000</td>\n",
              "    </tr>\n",
              "    <tr>\n",
              "      <th>1</th>\n",
              "      <td>Roman Catholicism was the sole established rel...</td>\n",
              "      <td>Until the Reformation, what was the establishe...</td>\n",
              "      <td>Roman Catholicism</td>\n",
              "    </tr>\n",
              "    <tr>\n",
              "      <th>2</th>\n",
              "      <td>Israel retaliated against Egyptian shelling wi...</td>\n",
              "      <td>When did the war start up again?</td>\n",
              "      <td>March 1969</td>\n",
              "    </tr>\n",
              "    <tr>\n",
              "      <th>3</th>\n",
              "      <td>Zen Buddhist teaching is often full of paradox...</td>\n",
              "      <td>What Buddhist teachings are often full of para...</td>\n",
              "      <td>Zen</td>\n",
              "    </tr>\n",
              "    <tr>\n",
              "      <th>4</th>\n",
              "      <td>Sahih al-Bukhari narrates Muhammad describing ...</td>\n",
              "      <td>In which work did Welch express his belief tha...</td>\n",
              "      <td>Encyclopaedia of Islam</td>\n",
              "    </tr>\n",
              "  </tbody>\n",
              "</table>\n",
              "</div>"
            ],
            "text/plain": [
              "                                             context  \\\n",
              "0  On the next day, December 18, protests turned ...   \n",
              "1  Roman Catholicism was the sole established rel...   \n",
              "2  Israel retaliated against Egyptian shelling wi...   \n",
              "3  Zen Buddhist teaching is often full of paradox...   \n",
              "4  Sahih al-Bukhari narrates Muhammad describing ...   \n",
              "\n",
              "                                            question                  answer  \n",
              "0  How many people were estimated by authorities ...                   3,000  \n",
              "1  Until the Reformation, what was the establishe...       Roman Catholicism  \n",
              "2                   When did the war start up again?              March 1969  \n",
              "3  What Buddhist teachings are often full of para...                     Zen  \n",
              "4  In which work did Welch express his belief tha...  Encyclopaedia of Islam  "
            ]
          },
          "execution_count": 6,
          "metadata": {},
          "output_type": "execute_result"
        }
      ],
      "source": [
        "squad_open = get_squad_df(squad, 'train', True)\n",
        "squad_close = get_squad_df(squad, 'train', True)\n",
        "squad_open.head()"
      ]
    },
    {
      "cell_type": "code",
      "execution_count": 7,
      "id": "d02e1189",
      "metadata": {
        "id": "d02e1189",
        "metadata": {}
      },
      "outputs": [],
      "source": [
        "def get_halueval_split(dataset):\n",
        "    data = zip(*[dataset['data'][field] for field in dataset['data'].features])\n",
        "    exs = [dspy.Example(question=question, context=knowledge, right_answer=right_ans, hallucinated_answer=halu_ans).with_inputs(\"question\")\n",
        "           for knowledge, question, right_ans, halu_ans in data]\n",
        "    return exs\n",
        "\n",
        "halueval_qa = load_dataset('pminervini/HaluEval', 'qa')\n",
        "halu_ds = get_halueval_split(halueval_qa)\n",
        "halu_dev = random.sample(halu_ds, k=20)"
      ]
    },
    {
      "cell_type": "code",
      "execution_count": 8,
      "id": "b3f688cf",
      "metadata": {
        "metadata": {}
      },
      "outputs": [
        {
          "data": {
            "text/plain": [
              "10000"
            ]
          },
          "execution_count": 8,
          "metadata": {},
          "output_type": "execute_result"
        }
      ],
      "source": [
        "len(halu_ds)"
      ]
    },
    {
      "cell_type": "code",
      "execution_count": 9,
      "id": "b7bd6582",
      "metadata": {
        "id": "b7bd6582",
        "metadata": {}
      },
      "outputs": [],
      "source": [
        "def get_he_df(squad, split=\"data\", sample = False, sample_size = 50):\n",
        "    data = squad[split]\n",
        "    df = pd.json_normalize(data)\n",
        "    if sample == True:\n",
        "        df = df.sample(n=sample_size, random_state=1).reset_index(drop=True)\n",
        "    df = df[['knowledge', 'question', 'right_answer', 'hallucinated_answer']]\n",
        "    return df"
      ]
    },
    {
      "cell_type": "code",
      "execution_count": 10,
      "id": "5b9d6e6d",
      "metadata": {
        "id": "5b9d6e6d",
        "metadata": {},
        "outputId": "f83b8ea6-2f9d-4f1f-d827-d95b9a2bd674"
      },
      "outputs": [
        {
          "data": {
            "text/html": [
              "<div>\n",
              "<style scoped>\n",
              "    .dataframe tbody tr th:only-of-type {\n",
              "        vertical-align: middle;\n",
              "    }\n",
              "\n",
              "    .dataframe tbody tr th {\n",
              "        vertical-align: top;\n",
              "    }\n",
              "\n",
              "    .dataframe thead th {\n",
              "        text-align: right;\n",
              "    }\n",
              "</style>\n",
              "<table border=\"1\" class=\"dataframe\">\n",
              "  <thead>\n",
              "    <tr style=\"text-align: right;\">\n",
              "      <th></th>\n",
              "      <th>knowledge</th>\n",
              "      <th>question</th>\n",
              "      <th>right_answer</th>\n",
              "      <th>hallucinated_answer</th>\n",
              "    </tr>\n",
              "  </thead>\n",
              "  <tbody>\n",
              "    <tr>\n",
              "      <th>0</th>\n",
              "      <td>Jack Elam is cast in occasional episodes as s...</td>\n",
              "      <td>Where did the actor who played sidekick Toothy...</td>\n",
              "      <td>the United States Navy</td>\n",
              "      <td>Jack Elam served in the Air Force.</td>\n",
              "    </tr>\n",
              "    <tr>\n",
              "      <th>1</th>\n",
              "      <td>Loewald's father, who died shortly after his b...</td>\n",
              "      <td>What was the nationality of the man with whom ...</td>\n",
              "      <td>German</td>\n",
              "      <td>Hans Loewald studied philosophy with a French ...</td>\n",
              "    </tr>\n",
              "    <tr>\n",
              "      <th>2</th>\n",
              "      <td>The Knicks–Nuggets brawl was an on-court alter...</td>\n",
              "      <td>The Knicks-Nuggests brawl was the most penaliz...</td>\n",
              "      <td>Auburn Hills, Michigan</td>\n",
              "      <td>The Knicks-Nuggets brawl was more infamous tha...</td>\n",
              "    </tr>\n",
              "    <tr>\n",
              "      <th>3</th>\n",
              "      <td>It was written by Paul McCartney (credited to...</td>\n",
              "      <td>The song \"Your Mother Should Know\" is based on...</td>\n",
              "      <td>1961</td>\n",
              "      <td>The song \"Your Mother Should Know\" is based on...</td>\n",
              "    </tr>\n",
              "    <tr>\n",
              "      <th>4</th>\n",
              "      <td>\"The Adventures of Supergirl\" is the first epi...</td>\n",
              "      <td>ON what date did the man who played Michael Su...</td>\n",
              "      <td>October 10, 2016</td>\n",
              "      <td>Tyler Hoechlin first appeared in The Adventure...</td>\n",
              "    </tr>\n",
              "    <tr>\n",
              "      <th>5</th>\n",
              "      <td>Jules Sitruk (born April 16, 1990 in Lilas, ne...</td>\n",
              "      <td>What comedy film, written and directed by Gart...</td>\n",
              "      <td>Son of Rambow</td>\n",
              "      <td>Jules Sitruk did not act in any of Garth Jenni...</td>\n",
              "    </tr>\n",
              "    <tr>\n",
              "      <th>6</th>\n",
              "      <td>Non-Stop is a 2014 American mystery action thr...</td>\n",
              "      <td>Non-Stop starred the English actress best know...</td>\n",
              "      <td>Lady Mary Crawley</td>\n",
              "      <td>Michelle Dockery played Lady Mary.</td>\n",
              "    </tr>\n",
              "    <tr>\n",
              "      <th>7</th>\n",
              "      <td>Baby Blue is the fourth studio album by Mexica...</td>\n",
              "      <td>What is the is the fourth studio album by Mexi...</td>\n",
              "      <td>Baby Blue</td>\n",
              "      <td>Anahí is married to Governor of Chiapas, Manue...</td>\n",
              "    </tr>\n",
              "    <tr>\n",
              "      <th>8</th>\n",
              "      <td>Homage to the Queen, Op. 42, by Malcolm Arnold...</td>\n",
              "      <td>What was the nationality of the costume design...</td>\n",
              "      <td>English</td>\n",
              "      <td>The costume designer for Homage to the Queen w...</td>\n",
              "    </tr>\n",
              "    <tr>\n",
              "      <th>9</th>\n",
              "      <td>Shortia is a small genus of subshrubs or peren...</td>\n",
              "      <td>Which genus, Shortia or Schizophragma, has mor...</td>\n",
              "      <td>Shortia</td>\n",
              "      <td>Schizophragma has fewer species.</td>\n",
              "    </tr>\n",
              "    <tr>\n",
              "      <th>10</th>\n",
              "      <td>Mount Cardigan is a prominent bare-rock summit...</td>\n",
              "      <td>Mount Cardigan is a prominent bare-rock summit...</td>\n",
              "      <td>United States</td>\n",
              "      <td>Mount Cardigan is a prominent bare-rock summit...</td>\n",
              "    </tr>\n",
              "    <tr>\n",
              "      <th>11</th>\n",
              "      <td>Black on Broadway is a 2004 HBO stand up comed...</td>\n",
              "      <td>What baseball team was co-owned by the preside...</td>\n",
              "      <td>Texas Rangers</td>\n",
              "      <td>The Arizona Cardinals baseball team.</td>\n",
              "    </tr>\n",
              "    <tr>\n",
              "      <th>12</th>\n",
              "      <td>Deanna Oliver (born September 27, 1952) is an ...</td>\n",
              "      <td>Which movie, based on a cartoon character by S...</td>\n",
              "      <td>\"Casper\" (1995)</td>\n",
              "      <td>Deanna Oliver and Sherri Stoner did some work ...</td>\n",
              "    </tr>\n",
              "    <tr>\n",
              "      <th>13</th>\n",
              "      <td>Some tracks that appear on the album were pre...</td>\n",
              "      <td>Closer to the Sun is the third studio album by...</td>\n",
              "      <td>Flinders Street railway station</td>\n",
              "      <td>The tracks were premiered at Federation Square...</td>\n",
              "    </tr>\n",
              "    <tr>\n",
              "      <th>14</th>\n",
              "      <td>It is directly across from the Allegany Balli...</td>\n",
              "      <td>How many people are employed by the laboratory...</td>\n",
              "      <td>some 1,000</td>\n",
              "      <td>The laboratory across from McKenzie, Maryland ...</td>\n",
              "    </tr>\n",
              "    <tr>\n",
              "      <th>15</th>\n",
              "      <td>Comedian is a 2002 American documentary film f...</td>\n",
              "      <td>2002 American documentary film, Comedian, is a...</td>\n",
              "      <td>July 21, 1952</td>\n",
              "      <td>Comedian is a 2002 American documentary film f...</td>\n",
              "    </tr>\n",
              "    <tr>\n",
              "      <th>16</th>\n",
              "      <td>Skirrid is a board game designed for 2–6 playe...</td>\n",
              "      <td>Which is a real-estate based board game, Skirr...</td>\n",
              "      <td>SolarQuest</td>\n",
              "      <td>Skirrid is a board game.</td>\n",
              "    </tr>\n",
              "    <tr>\n",
              "      <th>17</th>\n",
              "      <td>David Shelley Duncan (born September 29, 1979)...</td>\n",
              "      <td>Shelley Duncan play baseball for what team tha...</td>\n",
              "      <td>Tampa Bay Rays</td>\n",
              "      <td>Shelley Duncan played for the Tampa Bay Devil ...</td>\n",
              "    </tr>\n",
              "    <tr>\n",
              "      <th>18</th>\n",
              "      <td>Mark Pulemau Tuinei (March 31, 1960 – May 6, 1...</td>\n",
              "      <td>What is the birthdate of this former American ...</td>\n",
              "      <td>November 21, 1966</td>\n",
              "      <td>Tuinei and Aikman were teammates.</td>\n",
              "    </tr>\n",
              "    <tr>\n",
              "      <th>19</th>\n",
              "      <td>Shadow of the Cobra is a 1989 television movie...</td>\n",
              "      <td>Shadow of the Cobra is a 1989 television movie...</td>\n",
              "      <td>Charles Sobhraj</td>\n",
              "      <td>The television movie Shadow of the Cobra is ba...</td>\n",
              "    </tr>\n",
              "    <tr>\n",
              "      <th>20</th>\n",
              "      <td>A Pit Boy's Romance is a 1917 British silent d...</td>\n",
              "      <td>Which 1917 British silent drama film stars the...</td>\n",
              "      <td>A Pit Boy's Romance</td>\n",
              "      <td>\"The Mighty Atom\" was a 1917 British silent dr...</td>\n",
              "    </tr>\n",
              "    <tr>\n",
              "      <th>21</th>\n",
              "      <td>Jeff Mooring is an American actor. He also app...</td>\n",
              "      <td>In which american sitcom with  247 episodes di...</td>\n",
              "      <td>Jeff Mooring</td>\n",
              "      <td>Jeff Mooring appeared in a sitcom.</td>\n",
              "    </tr>\n",
              "    <tr>\n",
              "      <th>22</th>\n",
              "      <td>The Moscow Water Dog, also known as the Moscow...</td>\n",
              "      <td>Moscow Water Dog and Bavarian Mountain Hound, ...</td>\n",
              "      <td>dog</td>\n",
              "      <td>Moscow Water Dog and Bavarian Mountain Hound a...</td>\n",
              "    </tr>\n",
              "    <tr>\n",
              "      <th>23</th>\n",
              "      <td>\"Feel It Still\" is a song by American rock ban...</td>\n",
              "      <td>Which Russian music project that refreshes on ...</td>\n",
              "      <td>Tophit</td>\n",
              "      <td>The Russian music project that refreshes on We...</td>\n",
              "    </tr>\n",
              "    <tr>\n",
              "      <th>24</th>\n",
              "      <td>qutebrowser is a web browser for Linux, Window...</td>\n",
              "      <td>Why does Qutebrowser use DuckDuckGo ?</td>\n",
              "      <td>emphasizes returning the best results</td>\n",
              "      <td>Qutebrowser uses DuckDuckGo for privacy.</td>\n",
              "    </tr>\n",
              "    <tr>\n",
              "      <th>25</th>\n",
              "      <td>Kim Antonie Lode Clijsters (] ; born 8 June 19...</td>\n",
              "      <td>Between two tennis players Kim Clijsters and M...</td>\n",
              "      <td>Mary Pierce</td>\n",
              "      <td>Kim Clijsters is older by months.</td>\n",
              "    </tr>\n",
              "    <tr>\n",
              "      <th>26</th>\n",
              "      <td>Necropolis is a fantasy novel by British write...</td>\n",
              "      <td>Necropolis is a fantasy novel by English, nove...</td>\n",
              "      <td>5 April 1955</td>\n",
              "      <td>Necropolis is a fantasy novel by Anthony Horow...</td>\n",
              "    </tr>\n",
              "    <tr>\n",
              "      <th>27</th>\n",
              "      <td>The Battle of Young's Point was an engagement ...</td>\n",
              "      <td>Which 18th President of the United States was ...</td>\n",
              "      <td>Ulysses S. Grant</td>\n",
              "      <td>None of the Presidents were present.</td>\n",
              "    </tr>\n",
              "    <tr>\n",
              "      <th>28</th>\n",
              "      <td>SM \"UC-25\" was a German Type UC II minelaying ...</td>\n",
              "      <td>Who is the head of state of Germany who comman...</td>\n",
              "      <td>Karl Dönitz</td>\n",
              "      <td>Adolf Hitler was commanding the SM UC-25 minel...</td>\n",
              "    </tr>\n",
              "    <tr>\n",
              "      <th>29</th>\n",
              "      <td>He was born in Windhoek. He won a gold medal ...</td>\n",
              "      <td>Where was the man who won the gold medal in th...</td>\n",
              "      <td>Windhoek</td>\n",
              "      <td>The man who won the gold medal in the competit...</td>\n",
              "    </tr>\n",
              "    <tr>\n",
              "      <th>30</th>\n",
              "      <td>Jim Pugh (born February 5, 1964 in Burbank, Ca...</td>\n",
              "      <td>Are Jim Pugh and Laura Siegemund both professi...</td>\n",
              "      <td>yes</td>\n",
              "      <td>Jim Pugh was a professional table tennis playe...</td>\n",
              "    </tr>\n",
              "    <tr>\n",
              "      <th>31</th>\n",
              "      <td>It guest stars Tony Danza as himself portrayi...</td>\n",
              "      <td>What character on family guy did the actor who...</td>\n",
              "      <td>Bea Arthur</td>\n",
              "      <td>The actor who played Moe Greene in \"The Godfat...</td>\n",
              "    </tr>\n",
              "    <tr>\n",
              "      <th>32</th>\n",
              "      <td>Karanambo Airport (IATA: KRM, ICAO: SYKR) is a...</td>\n",
              "      <td>Karanambo is the local airport for the village...</td>\n",
              "      <td>Guyana</td>\n",
              "      <td>Karanambo Airport is only accessible by boat.</td>\n",
              "    </tr>\n",
              "    <tr>\n",
              "      <th>33</th>\n",
              "      <td>Alexander \"Alex\" Proyas ( ; born 23 September ...</td>\n",
              "      <td>What was the country of origin of the producer...</td>\n",
              "      <td>Australian</td>\n",
              "      <td>The producer of the movie starring Brandon Lee...</td>\n",
              "    </tr>\n",
              "    <tr>\n",
              "      <th>34</th>\n",
              "      <td>\"Blue Love (In My Heart)\" is a song written by...</td>\n",
              "      <td>The artist that recorded the song \"Blue Love (...</td>\n",
              "      <td>35</td>\n",
              "      <td>The artist that recorded the song \"Blue Love (...</td>\n",
              "    </tr>\n",
              "    <tr>\n",
              "      <th>35</th>\n",
              "      <td>Curly Ray Cline (January 10, 1923 – August 19,...</td>\n",
              "      <td>What is the capital of the state Curly Ray Cli...</td>\n",
              "      <td>Charleston</td>\n",
              "      <td>Curly Ray Cline was born in Huntington.</td>\n",
              "    </tr>\n",
              "    <tr>\n",
              "      <th>36</th>\n",
              "      <td>Arnold Isaacs (May 8, 1930 – August 3, 2015), ...</td>\n",
              "      <td>Arnold Isaacs, was a Canadian fashion designer...</td>\n",
              "      <td>Joan Crawford</td>\n",
              "      <td>Bette Davis</td>\n",
              "    </tr>\n",
              "    <tr>\n",
              "      <th>37</th>\n",
              "      <td>Die Macher is a strategy board game designed b...</td>\n",
              "      <td>Are both Die Macher and Quoridor German board ...</td>\n",
              "      <td>no</td>\n",
              "      <td>Yes, both Die Macher and Quoridor are popular ...</td>\n",
              "    </tr>\n",
              "    <tr>\n",
              "      <th>38</th>\n",
              "      <td>Marc Mann is an American keyboardist, guitaris...</td>\n",
              "      <td>Who directed this 1999 American Gothic superna...</td>\n",
              "      <td>Tim Burton</td>\n",
              "      <td>David Fincher directed the film.</td>\n",
              "    </tr>\n",
              "    <tr>\n",
              "      <th>39</th>\n",
              "      <td>Never Surrender is a novel by Michael Dobbs, b...</td>\n",
              "      <td>Who wrote \"House of Cards\" and Never Surrender?</td>\n",
              "      <td>Michael Dobbs</td>\n",
              "      <td>Never Surrender is a novel by Michael Dobbs, w...</td>\n",
              "    </tr>\n",
              "    <tr>\n",
              "      <th>40</th>\n",
              "      <td>The Black Mafia, also known as the Muslim Mafi...</td>\n",
              "      <td>The Black Mafia, also known as the Muslim Mafi...</td>\n",
              "      <td>PBM</td>\n",
              "      <td>The Black Mafia, also known as the Muslim Mafi...</td>\n",
              "    </tr>\n",
              "    <tr>\n",
              "      <th>41</th>\n",
              "      <td>Born on the Fourth of July is a 1989 American ...</td>\n",
              "      <td>Born on the Fourth of July is a 1989 American ...</td>\n",
              "      <td>Ronald Lawrence \"Ron\" Kovic</td>\n",
              "      <td>Robert Lawrence \"Bob\" Kovic</td>\n",
              "    </tr>\n",
              "    <tr>\n",
              "      <th>42</th>\n",
              "      <td>Kundol Lake also known as \"Kundol Dand\", is a ...</td>\n",
              "      <td>Which is farther north,  Kundol Lake or Śniardwy?</td>\n",
              "      <td>Śniardwy</td>\n",
              "      <td>Kundol Lake is farther north.</td>\n",
              "    </tr>\n",
              "    <tr>\n",
              "      <th>43</th>\n",
              "      <td>The song samples \"Dream On\" by American hard ...</td>\n",
              "      <td>\"Sing for the Moment\" is a song by American ra...</td>\n",
              "      <td>Dream On</td>\n",
              "      <td>\"Sing for the Moment\" samples \"Toys in the Att...</td>\n",
              "    </tr>\n",
              "    <tr>\n",
              "      <th>44</th>\n",
              "      <td>Delbert Martin Mann Jr. (January 30, 1920 – No...</td>\n",
              "      <td>Delbert Mann and Nunnally Johnson, share which...</td>\n",
              "      <td>director</td>\n",
              "      <td>Delbert Mann and Nunnally Johnson were both in...</td>\n",
              "    </tr>\n",
              "    <tr>\n",
              "      <th>45</th>\n",
              "      <td>O'Malley first appeared in roles in the iconi...</td>\n",
              "      <td>Who starred in the British gangster film in wh...</td>\n",
              "      <td>Bob Hoskins and Helen Mirren</td>\n",
              "      <td>Daragh O'Malley starred in The Long Good Friday.</td>\n",
              "    </tr>\n",
              "    <tr>\n",
              "      <th>46</th>\n",
              "      <td>Train Advise Assist Command – South (TAAC – So...</td>\n",
              "      <td>How many troops does the mission that Train Ad...</td>\n",
              "      <td>13,000</td>\n",
              "      <td>The mission that Train Advise Assist Command -...</td>\n",
              "    </tr>\n",
              "    <tr>\n",
              "      <th>47</th>\n",
              "      <td>Cimarron Strip is a lavish American Western te...</td>\n",
              "      <td>The writer of the theme and pilot incidental m...</td>\n",
              "      <td>T. E. Lawrence</td>\n",
              "      <td>Maurice Jarre scored a historical epic in 1962.</td>\n",
              "    </tr>\n",
              "    <tr>\n",
              "      <th>48</th>\n",
              "      <td>The opera is described as being \"based on a d...</td>\n",
              "      <td>Under which government did this Italian classi...</td>\n",
              "      <td>the Habsburg Monarchy</td>\n",
              "      <td>Salieri pursued his career under the Russian g...</td>\n",
              "    </tr>\n",
              "    <tr>\n",
              "      <th>49</th>\n",
              "      <td>Columbia Records released \"If I Were a Boy\" t...</td>\n",
              "      <td>\"If I Were a Boy\" is a song performed by Ameri...</td>\n",
              "      <td>October 8, 2008</td>\n",
              "      <td>Columbia Records released \"If I Were a Boy\" to...</td>\n",
              "    </tr>\n",
              "  </tbody>\n",
              "</table>\n",
              "</div>"
            ],
            "text/plain": [
              "                                            knowledge  \\\n",
              "0    Jack Elam is cast in occasional episodes as s...   \n",
              "1   Loewald's father, who died shortly after his b...   \n",
              "2   The Knicks–Nuggets brawl was an on-court alter...   \n",
              "3    It was written by Paul McCartney (credited to...   \n",
              "4   \"The Adventures of Supergirl\" is the first epi...   \n",
              "5   Jules Sitruk (born April 16, 1990 in Lilas, ne...   \n",
              "6   Non-Stop is a 2014 American mystery action thr...   \n",
              "7   Baby Blue is the fourth studio album by Mexica...   \n",
              "8   Homage to the Queen, Op. 42, by Malcolm Arnold...   \n",
              "9   Shortia is a small genus of subshrubs or peren...   \n",
              "10  Mount Cardigan is a prominent bare-rock summit...   \n",
              "11  Black on Broadway is a 2004 HBO stand up comed...   \n",
              "12  Deanna Oliver (born September 27, 1952) is an ...   \n",
              "13   Some tracks that appear on the album were pre...   \n",
              "14   It is directly across from the Allegany Balli...   \n",
              "15  Comedian is a 2002 American documentary film f...   \n",
              "16  Skirrid is a board game designed for 2–6 playe...   \n",
              "17  David Shelley Duncan (born September 29, 1979)...   \n",
              "18  Mark Pulemau Tuinei (March 31, 1960 – May 6, 1...   \n",
              "19  Shadow of the Cobra is a 1989 television movie...   \n",
              "20  A Pit Boy's Romance is a 1917 British silent d...   \n",
              "21  Jeff Mooring is an American actor. He also app...   \n",
              "22  The Moscow Water Dog, also known as the Moscow...   \n",
              "23  \"Feel It Still\" is a song by American rock ban...   \n",
              "24  qutebrowser is a web browser for Linux, Window...   \n",
              "25  Kim Antonie Lode Clijsters (] ; born 8 June 19...   \n",
              "26  Necropolis is a fantasy novel by British write...   \n",
              "27  The Battle of Young's Point was an engagement ...   \n",
              "28  SM \"UC-25\" was a German Type UC II minelaying ...   \n",
              "29   He was born in Windhoek. He won a gold medal ...   \n",
              "30  Jim Pugh (born February 5, 1964 in Burbank, Ca...   \n",
              "31   It guest stars Tony Danza as himself portrayi...   \n",
              "32  Karanambo Airport (IATA: KRM, ICAO: SYKR) is a...   \n",
              "33  Alexander \"Alex\" Proyas ( ; born 23 September ...   \n",
              "34  \"Blue Love (In My Heart)\" is a song written by...   \n",
              "35  Curly Ray Cline (January 10, 1923 – August 19,...   \n",
              "36  Arnold Isaacs (May 8, 1930 – August 3, 2015), ...   \n",
              "37  Die Macher is a strategy board game designed b...   \n",
              "38  Marc Mann is an American keyboardist, guitaris...   \n",
              "39  Never Surrender is a novel by Michael Dobbs, b...   \n",
              "40  The Black Mafia, also known as the Muslim Mafi...   \n",
              "41  Born on the Fourth of July is a 1989 American ...   \n",
              "42  Kundol Lake also known as \"Kundol Dand\", is a ...   \n",
              "43   The song samples \"Dream On\" by American hard ...   \n",
              "44  Delbert Martin Mann Jr. (January 30, 1920 – No...   \n",
              "45   O'Malley first appeared in roles in the iconi...   \n",
              "46  Train Advise Assist Command – South (TAAC – So...   \n",
              "47  Cimarron Strip is a lavish American Western te...   \n",
              "48   The opera is described as being \"based on a d...   \n",
              "49   Columbia Records released \"If I Were a Boy\" t...   \n",
              "\n",
              "                                             question  \\\n",
              "0   Where did the actor who played sidekick Toothy...   \n",
              "1   What was the nationality of the man with whom ...   \n",
              "2   The Knicks-Nuggests brawl was the most penaliz...   \n",
              "3   The song \"Your Mother Should Know\" is based on...   \n",
              "4   ON what date did the man who played Michael Su...   \n",
              "5   What comedy film, written and directed by Gart...   \n",
              "6   Non-Stop starred the English actress best know...   \n",
              "7   What is the is the fourth studio album by Mexi...   \n",
              "8   What was the nationality of the costume design...   \n",
              "9   Which genus, Shortia or Schizophragma, has mor...   \n",
              "10  Mount Cardigan is a prominent bare-rock summit...   \n",
              "11  What baseball team was co-owned by the preside...   \n",
              "12  Which movie, based on a cartoon character by S...   \n",
              "13  Closer to the Sun is the third studio album by...   \n",
              "14  How many people are employed by the laboratory...   \n",
              "15  2002 American documentary film, Comedian, is a...   \n",
              "16  Which is a real-estate based board game, Skirr...   \n",
              "17  Shelley Duncan play baseball for what team tha...   \n",
              "18  What is the birthdate of this former American ...   \n",
              "19  Shadow of the Cobra is a 1989 television movie...   \n",
              "20  Which 1917 British silent drama film stars the...   \n",
              "21  In which american sitcom with  247 episodes di...   \n",
              "22  Moscow Water Dog and Bavarian Mountain Hound, ...   \n",
              "23  Which Russian music project that refreshes on ...   \n",
              "24              Why does Qutebrowser use DuckDuckGo ?   \n",
              "25  Between two tennis players Kim Clijsters and M...   \n",
              "26  Necropolis is a fantasy novel by English, nove...   \n",
              "27  Which 18th President of the United States was ...   \n",
              "28  Who is the head of state of Germany who comman...   \n",
              "29  Where was the man who won the gold medal in th...   \n",
              "30  Are Jim Pugh and Laura Siegemund both professi...   \n",
              "31  What character on family guy did the actor who...   \n",
              "32  Karanambo is the local airport for the village...   \n",
              "33  What was the country of origin of the producer...   \n",
              "34  The artist that recorded the song \"Blue Love (...   \n",
              "35  What is the capital of the state Curly Ray Cli...   \n",
              "36  Arnold Isaacs, was a Canadian fashion designer...   \n",
              "37  Are both Die Macher and Quoridor German board ...   \n",
              "38  Who directed this 1999 American Gothic superna...   \n",
              "39    Who wrote \"House of Cards\" and Never Surrender?   \n",
              "40  The Black Mafia, also known as the Muslim Mafi...   \n",
              "41  Born on the Fourth of July is a 1989 American ...   \n",
              "42  Which is farther north,  Kundol Lake or Śniardwy?   \n",
              "43  \"Sing for the Moment\" is a song by American ra...   \n",
              "44  Delbert Mann and Nunnally Johnson, share which...   \n",
              "45  Who starred in the British gangster film in wh...   \n",
              "46  How many troops does the mission that Train Ad...   \n",
              "47  The writer of the theme and pilot incidental m...   \n",
              "48  Under which government did this Italian classi...   \n",
              "49  \"If I Were a Boy\" is a song performed by Ameri...   \n",
              "\n",
              "                             right_answer  \\\n",
              "0                  the United States Navy   \n",
              "1                                  German   \n",
              "2                  Auburn Hills, Michigan   \n",
              "3                                    1961   \n",
              "4                        October 10, 2016   \n",
              "5                           Son of Rambow   \n",
              "6                       Lady Mary Crawley   \n",
              "7                               Baby Blue   \n",
              "8                                 English   \n",
              "9                                 Shortia   \n",
              "10                          United States   \n",
              "11                          Texas Rangers   \n",
              "12                        \"Casper\" (1995)   \n",
              "13        Flinders Street railway station   \n",
              "14                             some 1,000   \n",
              "15                          July 21, 1952   \n",
              "16                             SolarQuest   \n",
              "17                         Tampa Bay Rays   \n",
              "18                      November 21, 1966   \n",
              "19                        Charles Sobhraj   \n",
              "20                    A Pit Boy's Romance   \n",
              "21                           Jeff Mooring   \n",
              "22                                    dog   \n",
              "23                                 Tophit   \n",
              "24  emphasizes returning the best results   \n",
              "25                            Mary Pierce   \n",
              "26                           5 April 1955   \n",
              "27                       Ulysses S. Grant   \n",
              "28                            Karl Dönitz   \n",
              "29                               Windhoek   \n",
              "30                                    yes   \n",
              "31                             Bea Arthur   \n",
              "32                                 Guyana   \n",
              "33                             Australian   \n",
              "34                                     35   \n",
              "35                             Charleston   \n",
              "36                          Joan Crawford   \n",
              "37                                     no   \n",
              "38                             Tim Burton   \n",
              "39                          Michael Dobbs   \n",
              "40                                    PBM   \n",
              "41            Ronald Lawrence \"Ron\" Kovic   \n",
              "42                               Śniardwy   \n",
              "43                               Dream On   \n",
              "44                               director   \n",
              "45           Bob Hoskins and Helen Mirren   \n",
              "46                                 13,000   \n",
              "47                         T. E. Lawrence   \n",
              "48                  the Habsburg Monarchy   \n",
              "49                        October 8, 2008   \n",
              "\n",
              "                                  hallucinated_answer  \n",
              "0                  Jack Elam served in the Air Force.  \n",
              "1   Hans Loewald studied philosophy with a French ...  \n",
              "2   The Knicks-Nuggets brawl was more infamous tha...  \n",
              "3   The song \"Your Mother Should Know\" is based on...  \n",
              "4   Tyler Hoechlin first appeared in The Adventure...  \n",
              "5   Jules Sitruk did not act in any of Garth Jenni...  \n",
              "6                  Michelle Dockery played Lady Mary.  \n",
              "7   Anahí is married to Governor of Chiapas, Manue...  \n",
              "8   The costume designer for Homage to the Queen w...  \n",
              "9                    Schizophragma has fewer species.  \n",
              "10  Mount Cardigan is a prominent bare-rock summit...  \n",
              "11               The Arizona Cardinals baseball team.  \n",
              "12  Deanna Oliver and Sherri Stoner did some work ...  \n",
              "13  The tracks were premiered at Federation Square...  \n",
              "14  The laboratory across from McKenzie, Maryland ...  \n",
              "15  Comedian is a 2002 American documentary film f...  \n",
              "16                           Skirrid is a board game.  \n",
              "17  Shelley Duncan played for the Tampa Bay Devil ...  \n",
              "18                  Tuinei and Aikman were teammates.  \n",
              "19  The television movie Shadow of the Cobra is ba...  \n",
              "20  \"The Mighty Atom\" was a 1917 British silent dr...  \n",
              "21                 Jeff Mooring appeared in a sitcom.  \n",
              "22  Moscow Water Dog and Bavarian Mountain Hound a...  \n",
              "23  The Russian music project that refreshes on We...  \n",
              "24           Qutebrowser uses DuckDuckGo for privacy.  \n",
              "25                  Kim Clijsters is older by months.  \n",
              "26  Necropolis is a fantasy novel by Anthony Horow...  \n",
              "27               None of the Presidents were present.  \n",
              "28  Adolf Hitler was commanding the SM UC-25 minel...  \n",
              "29  The man who won the gold medal in the competit...  \n",
              "30  Jim Pugh was a professional table tennis playe...  \n",
              "31  The actor who played Moe Greene in \"The Godfat...  \n",
              "32      Karanambo Airport is only accessible by boat.  \n",
              "33  The producer of the movie starring Brandon Lee...  \n",
              "34  The artist that recorded the song \"Blue Love (...  \n",
              "35            Curly Ray Cline was born in Huntington.  \n",
              "36                                        Bette Davis  \n",
              "37  Yes, both Die Macher and Quoridor are popular ...  \n",
              "38                   David Fincher directed the film.  \n",
              "39  Never Surrender is a novel by Michael Dobbs, w...  \n",
              "40  The Black Mafia, also known as the Muslim Mafi...  \n",
              "41                        Robert Lawrence \"Bob\" Kovic  \n",
              "42                      Kundol Lake is farther north.  \n",
              "43  \"Sing for the Moment\" samples \"Toys in the Att...  \n",
              "44  Delbert Mann and Nunnally Johnson were both in...  \n",
              "45   Daragh O'Malley starred in The Long Good Friday.  \n",
              "46  The mission that Train Advise Assist Command -...  \n",
              "47    Maurice Jarre scored a historical epic in 1962.  \n",
              "48  Salieri pursued his career under the Russian g...  \n",
              "49  Columbia Records released \"If I Were a Boy\" to...  "
            ]
          },
          "execution_count": 10,
          "metadata": {},
          "output_type": "execute_result"
        }
      ],
      "source": [
        "# he_close = get_he_df(halueval_qa, 'data', True)\n",
        "he_open = get_he_df(halueval_qa, 'data', True)\n",
        "he_open"
      ]
    },
    {
      "cell_type": "markdown",
      "id": "77e9189c-794e-405f-9cba-0388316ac9e7",
      "metadata": {
        "id": "77e9189c-794e-405f-9cba-0388316ac9e7"
      },
      "source": [
        "## Segmentation"
      ]
    },
    {
      "cell_type": "code",
      "execution_count": 11,
      "id": "31c0fa36",
      "metadata": {
        "id": "31c0fa36",
        "metadata": {}
      },
      "outputs": [],
      "source": [
        "from nltk.tokenize import sent_tokenize\n",
        "import nltk\n",
        "\n",
        "try:\n",
        "    nltk.download(\"punkt\", quiet=True)\n",
        "except FileExistsError:  # multiprocessing race condition\n",
        "    pass"
      ]
    },
    {
      "cell_type": "code",
      "execution_count": 12,
      "id": "af36ef9b",
      "metadata": {
        "id": "af36ef9b",
        "metadata": {}
      },
      "outputs": [],
      "source": [
        "class SentenceSplitter:\n",
        "    def __init__(self):\n",
        "        pass\n",
        "\n",
        "    # use NLTK to split a text string into sentences for now\n",
        "    def split_into_sentences(self, text):\n",
        "        return sent_tokenize(text)"
      ]
    },
    {
      "cell_type": "code",
      "execution_count": 13,
      "id": "93645062",
      "metadata": {
        "metadata": {}
      },
      "outputs": [],
      "source": [
        "splitter = SentenceSplitter()"
      ]
    },
    {
      "cell_type": "markdown",
      "id": "0e00318a",
      "metadata": {},
      "source": [
        "## Hallucination check"
      ]
    },
    {
      "cell_type": "code",
      "execution_count": 14,
      "id": "3d087081",
      "metadata": {
        "metadata": {}
      },
      "outputs": [],
      "source": [
        "halu_check_model = models.HaluCheckRAG()\n",
        "splitter = SentenceSplitter()"
      ]
    },
    {
      "cell_type": "code",
      "execution_count": 15,
      "id": "99a8ff2f",
      "metadata": {
        "metadata": {}
      },
      "outputs": [
        {
          "data": {
            "text/plain": [
              "Example({'question': \"Which magazine was started first Arthur's Magazine or First for Women?\", 'context': \"Arthur's Magazine (1844–1846) was an American literary periodical published in Philadelphia in the 19th century.First for Women is a woman's magazine published by Bauer Media Group in the USA.\", 'right_answer': \"Arthur's Magazine\", 'hallucinated_answer': 'First for Women was started first.'}) (input_keys={'question'})"
            ]
          },
          "execution_count": 15,
          "metadata": {},
          "output_type": "execute_result"
        }
      ],
      "source": [
        "ex = halu_ds[0]\n",
        "ex"
      ]
    },
    {
      "cell_type": "code",
      "execution_count": 16,
      "id": "dd83fc03",
      "metadata": {
        "metadata": {}
      },
      "outputs": [
        {
          "data": {
            "text/plain": [
              "True"
            ]
          },
          "execution_count": 16,
          "metadata": {},
          "output_type": "execute_result"
        }
      ],
      "source": [
        "halu_check_model(question=ex['question'], response=ex['hallucinated_answer'], context=ex['context'])"
      ]
    },
    {
      "cell_type": "code",
      "execution_count": 17,
      "id": "3aec625a",
      "metadata": {
        "metadata": {}
      },
      "outputs": [
        {
          "data": {
            "text/plain": [
              "<module 'models' from '/home/michael/git/cs224u-final-project/models.py'>"
            ]
          },
          "execution_count": 17,
          "metadata": {},
          "output_type": "execute_result"
        }
      ],
      "source": [
        "import importlib\n",
        "importlib.reload(models)"
      ]
    },
    {
      "cell_type": "code",
      "execution_count": 18,
      "id": "c6ce9f3d",
      "metadata": {
        "metadata": {}
      },
      "outputs": [],
      "source": [
        "modify_model = models.ModifyOpenQARAG()"
      ]
    },
    {
      "cell_type": "code",
      "execution_count": 19,
      "id": "e45778f1",
      "metadata": {
        "metadata": {}
      },
      "outputs": [
        {
          "data": {
            "text/plain": [
              "\"Arthur's Magazine was started first.\""
            ]
          },
          "execution_count": 19,
          "metadata": {},
          "output_type": "execute_result"
        }
      ],
      "source": [
        "modify_model(question=ex['question'],response=ex['hallucinated_answer'], context=ex['context'])"
      ]
    },
    {
      "cell_type": "code",
      "execution_count": 20,
      "id": "7d78a115",
      "metadata": {
        "metadata": {}
      },
      "outputs": [
        {
          "name": "stdout",
          "output_type": "stream",
          "text": [
            "\n",
            "\n",
            "\n",
            "\n",
            "The response to the question is wrong. Generate a correct answer to the question that is different from the given response and aligns with the provided context.\n",
            "\n",
            "---\n",
            "\n",
            "Follow the following format.\n",
            "\n",
            "Context: may contain relevant facts\n",
            "\n",
            "Question: ${question}\n",
            "\n",
            "Response: ${response}\n",
            "\n",
            "Answer: Based on the context and taking the feedback on the response to the question into consideration, answer the question with short answers (limited to less than 6 words)\n",
            "\n",
            "---\n",
            "\n",
            "Context: Arthur's Magazine (1844–1846) was an American literary periodical published in Philadelphia in the 19th century.First for Women is a woman's magazine published by Bauer Media Group in the USA.\n",
            "\n",
            "Question: Which magazine was started first Arthur's Magazine or First for Women?\n",
            "\n",
            "Response: First for Women was started first.\n",
            "\n",
            "Answer:\u001b[32m Arthur's Magazine was started first.\u001b[0m\n",
            "\n",
            "\n",
            "\n"
          ]
        }
      ],
      "source": [
        "lm.inspect_history(1)"
      ]
    },
    {
      "cell_type": "code",
      "execution_count": 31,
      "id": "adbffac1",
      "metadata": {
        "metadata": {}
      },
      "outputs": [
        {
          "name": "stderr",
          "output_type": "stream",
          "text": [
            "  0%|          | 0/6000 [00:00<?, ?it/s]"
          ]
        },
        {
          "name": "stdout",
          "output_type": "stream",
          "text": [
            "Checkpointing records with index 4000\n",
            "Wrong value for check_right_answer, index 4019: answer None\n"
          ]
        },
        {
          "name": "stderr",
          "output_type": "stream",
          "text": [
            "  1%|          | 50/6000 [00:31<1:30:41,  1.09it/s]"
          ]
        },
        {
          "name": "stdout",
          "output_type": "stream",
          "text": [
            "Checkpointing records with index 4050\n"
          ]
        },
        {
          "name": "stderr",
          "output_type": "stream",
          "text": [
            "  2%|▏         | 101/6000 [02:21<3:26:47,  2.10s/it]"
          ]
        },
        {
          "name": "stdout",
          "output_type": "stream",
          "text": [
            "Checkpointing records with index 4100\n"
          ]
        },
        {
          "name": "stderr",
          "output_type": "stream",
          "text": [
            "  3%|▎         | 151/6000 [04:02<3:27:37,  2.13s/it]"
          ]
        },
        {
          "name": "stdout",
          "output_type": "stream",
          "text": [
            "Checkpointing records with index 4150\n"
          ]
        },
        {
          "name": "stderr",
          "output_type": "stream",
          "text": [
            "  3%|▎         | 201/6000 [05:41<3:20:44,  2.08s/it]"
          ]
        },
        {
          "name": "stdout",
          "output_type": "stream",
          "text": [
            "Checkpointing records with index 4200\n"
          ]
        },
        {
          "name": "stderr",
          "output_type": "stream",
          "text": [
            "  4%|▍         | 251/6000 [07:28<2:56:40,  1.84s/it]"
          ]
        },
        {
          "name": "stdout",
          "output_type": "stream",
          "text": [
            "Checkpointing records with index 4250\n"
          ]
        },
        {
          "name": "stderr",
          "output_type": "stream",
          "text": [
            "  5%|▌         | 301/6000 [09:10<3:11:30,  2.02s/it]"
          ]
        },
        {
          "name": "stdout",
          "output_type": "stream",
          "text": [
            "Checkpointing records with index 4300\n"
          ]
        },
        {
          "name": "stderr",
          "output_type": "stream",
          "text": [
            "  6%|▌         | 351/6000 [10:53<3:37:12,  2.31s/it]"
          ]
        },
        {
          "name": "stdout",
          "output_type": "stream",
          "text": [
            "Checkpointing records with index 4350\n"
          ]
        },
        {
          "name": "stderr",
          "output_type": "stream",
          "text": [
            "  7%|▋         | 401/6000 [12:40<3:26:24,  2.21s/it]"
          ]
        },
        {
          "name": "stdout",
          "output_type": "stream",
          "text": [
            "Checkpointing records with index 4400\n"
          ]
        },
        {
          "name": "stderr",
          "output_type": "stream",
          "text": [
            "  8%|▊         | 451/6000 [14:21<3:08:26,  2.04s/it]"
          ]
        },
        {
          "name": "stdout",
          "output_type": "stream",
          "text": [
            "Checkpointing records with index 4450\n"
          ]
        },
        {
          "name": "stderr",
          "output_type": "stream",
          "text": [
            "  8%|▊         | 501/6000 [16:09<3:35:18,  2.35s/it]"
          ]
        },
        {
          "name": "stdout",
          "output_type": "stream",
          "text": [
            "Checkpointing records with index 4500\n"
          ]
        },
        {
          "name": "stderr",
          "output_type": "stream",
          "text": [
            "  9%|▉         | 551/6000 [17:51<2:44:44,  1.81s/it]"
          ]
        },
        {
          "name": "stdout",
          "output_type": "stream",
          "text": [
            "Checkpointing records with index 4550\n"
          ]
        },
        {
          "name": "stderr",
          "output_type": "stream",
          "text": [
            " 10%|█         | 601/6000 [19:35<2:46:16,  1.85s/it]"
          ]
        },
        {
          "name": "stdout",
          "output_type": "stream",
          "text": [
            "Checkpointing records with index 4600\n"
          ]
        },
        {
          "name": "stderr",
          "output_type": "stream",
          "text": [
            " 11%|█         | 651/6000 [21:24<3:43:48,  2.51s/it]"
          ]
        },
        {
          "name": "stdout",
          "output_type": "stream",
          "text": [
            "Checkpointing records with index 4650\n"
          ]
        },
        {
          "name": "stderr",
          "output_type": "stream",
          "text": [
            " 12%|█▏        | 701/6000 [23:05<2:52:49,  1.96s/it]"
          ]
        },
        {
          "name": "stdout",
          "output_type": "stream",
          "text": [
            "Checkpointing records with index 4700\n"
          ]
        },
        {
          "name": "stderr",
          "output_type": "stream",
          "text": [
            " 13%|█▎        | 751/6000 [25:00<2:51:26,  1.96s/it]"
          ]
        },
        {
          "name": "stdout",
          "output_type": "stream",
          "text": [
            "Checkpointing records with index 4750\n"
          ]
        },
        {
          "name": "stderr",
          "output_type": "stream",
          "text": [
            " 13%|█▎        | 801/6000 [26:50<2:56:59,  2.04s/it]"
          ]
        },
        {
          "name": "stdout",
          "output_type": "stream",
          "text": [
            "Checkpointing records with index 4800\n"
          ]
        },
        {
          "name": "stderr",
          "output_type": "stream",
          "text": [
            " 14%|█▍        | 851/6000 [28:34<3:26:55,  2.41s/it]"
          ]
        },
        {
          "name": "stdout",
          "output_type": "stream",
          "text": [
            "Checkpointing records with index 4850\n"
          ]
        },
        {
          "name": "stderr",
          "output_type": "stream",
          "text": [
            " 15%|█▌        | 901/6000 [30:28<3:18:30,  2.34s/it]"
          ]
        },
        {
          "name": "stdout",
          "output_type": "stream",
          "text": [
            "Checkpointing records with index 4900\n"
          ]
        },
        {
          "name": "stderr",
          "output_type": "stream",
          "text": [
            " 16%|█▌        | 951/6000 [32:15<2:55:41,  2.09s/it]"
          ]
        },
        {
          "name": "stdout",
          "output_type": "stream",
          "text": [
            "Checkpointing records with index 4950\n"
          ]
        },
        {
          "name": "stderr",
          "output_type": "stream",
          "text": [
            " 17%|█▋        | 1001/6000 [34:05<2:52:06,  2.07s/it]"
          ]
        },
        {
          "name": "stdout",
          "output_type": "stream",
          "text": [
            "Checkpointing records with index 5000\n"
          ]
        },
        {
          "name": "stderr",
          "output_type": "stream",
          "text": [
            " 18%|█▊        | 1051/6000 [35:51<2:35:19,  1.88s/it]"
          ]
        },
        {
          "name": "stdout",
          "output_type": "stream",
          "text": [
            "Checkpointing records with index 5050\n"
          ]
        },
        {
          "name": "stderr",
          "output_type": "stream",
          "text": [
            " 18%|█▊        | 1101/6000 [37:42<2:29:16,  1.83s/it]"
          ]
        },
        {
          "name": "stdout",
          "output_type": "stream",
          "text": [
            "Checkpointing records with index 5100\n"
          ]
        },
        {
          "name": "stderr",
          "output_type": "stream",
          "text": [
            " 19%|█▉        | 1151/6000 [39:30<2:46:47,  2.06s/it]"
          ]
        },
        {
          "name": "stdout",
          "output_type": "stream",
          "text": [
            "Checkpointing records with index 5150\n"
          ]
        },
        {
          "name": "stderr",
          "output_type": "stream",
          "text": [
            " 20%|██        | 1201/6000 [41:21<2:35:21,  1.94s/it]"
          ]
        },
        {
          "name": "stdout",
          "output_type": "stream",
          "text": [
            "Checkpointing records with index 5200\n"
          ]
        },
        {
          "name": "stderr",
          "output_type": "stream",
          "text": [
            " 21%|██        | 1251/6000 [43:07<2:29:30,  1.89s/it]"
          ]
        },
        {
          "name": "stdout",
          "output_type": "stream",
          "text": [
            "Checkpointing records with index 5250\n"
          ]
        },
        {
          "name": "stderr",
          "output_type": "stream",
          "text": [
            " 22%|██▏       | 1301/6000 [44:56<2:37:23,  2.01s/it]"
          ]
        },
        {
          "name": "stdout",
          "output_type": "stream",
          "text": [
            "Checkpointing records with index 5300\n"
          ]
        },
        {
          "name": "stderr",
          "output_type": "stream",
          "text": [
            " 23%|██▎       | 1351/6000 [46:45<3:11:37,  2.47s/it]"
          ]
        },
        {
          "name": "stdout",
          "output_type": "stream",
          "text": [
            "Checkpointing records with index 5350\n"
          ]
        },
        {
          "name": "stderr",
          "output_type": "stream",
          "text": [
            " 23%|██▎       | 1401/6000 [48:32<2:38:26,  2.07s/it]"
          ]
        },
        {
          "name": "stdout",
          "output_type": "stream",
          "text": [
            "Checkpointing records with index 5400\n"
          ]
        },
        {
          "name": "stderr",
          "output_type": "stream",
          "text": [
            " 24%|██▍       | 1451/6000 [50:19<2:44:08,  2.16s/it]"
          ]
        },
        {
          "name": "stdout",
          "output_type": "stream",
          "text": [
            "Checkpointing records with index 5450\n"
          ]
        },
        {
          "name": "stderr",
          "output_type": "stream",
          "text": [
            " 25%|██▌       | 1501/6000 [52:11<2:44:27,  2.19s/it]"
          ]
        },
        {
          "name": "stdout",
          "output_type": "stream",
          "text": [
            "Checkpointing records with index 5500\n"
          ]
        },
        {
          "name": "stderr",
          "output_type": "stream",
          "text": [
            " 26%|██▌       | 1551/6000 [54:01<2:37:24,  2.12s/it]"
          ]
        },
        {
          "name": "stdout",
          "output_type": "stream",
          "text": [
            "Checkpointing records with index 5550\n"
          ]
        },
        {
          "name": "stderr",
          "output_type": "stream",
          "text": [
            " 27%|██▋       | 1601/6000 [55:48<2:47:34,  2.29s/it]"
          ]
        },
        {
          "name": "stdout",
          "output_type": "stream",
          "text": [
            "Checkpointing records with index 5600\n"
          ]
        },
        {
          "name": "stderr",
          "output_type": "stream",
          "text": [
            " 28%|██▊       | 1651/6000 [57:34<2:32:44,  2.11s/it]"
          ]
        },
        {
          "name": "stdout",
          "output_type": "stream",
          "text": [
            "Checkpointing records with index 5650\n"
          ]
        },
        {
          "name": "stderr",
          "output_type": "stream",
          "text": [
            " 28%|██▊       | 1701/6000 [59:24<2:22:16,  1.99s/it]"
          ]
        },
        {
          "name": "stdout",
          "output_type": "stream",
          "text": [
            "Checkpointing records with index 5700\n"
          ]
        },
        {
          "name": "stderr",
          "output_type": "stream",
          "text": [
            " 29%|██▉       | 1751/6000 [1:01:22<2:38:10,  2.23s/it]"
          ]
        },
        {
          "name": "stdout",
          "output_type": "stream",
          "text": [
            "Checkpointing records with index 5750\n"
          ]
        },
        {
          "name": "stderr",
          "output_type": "stream",
          "text": [
            " 30%|███       | 1801/6000 [1:03:11<2:29:01,  2.13s/it]"
          ]
        },
        {
          "name": "stdout",
          "output_type": "stream",
          "text": [
            "Checkpointing records with index 5800\n"
          ]
        },
        {
          "name": "stderr",
          "output_type": "stream",
          "text": [
            " 31%|███       | 1851/6000 [1:05:07<2:48:08,  2.43s/it]"
          ]
        },
        {
          "name": "stdout",
          "output_type": "stream",
          "text": [
            "Checkpointing records with index 5850\n"
          ]
        },
        {
          "name": "stderr",
          "output_type": "stream",
          "text": [
            " 32%|███▏      | 1901/6000 [1:06:55<2:37:49,  2.31s/it]"
          ]
        },
        {
          "name": "stdout",
          "output_type": "stream",
          "text": [
            "Checkpointing records with index 5900\n"
          ]
        },
        {
          "name": "stderr",
          "output_type": "stream",
          "text": [
            " 33%|███▎      | 1951/6000 [1:08:48<2:34:38,  2.29s/it]"
          ]
        },
        {
          "name": "stdout",
          "output_type": "stream",
          "text": [
            "Checkpointing records with index 5950\n"
          ]
        },
        {
          "name": "stderr",
          "output_type": "stream",
          "text": [
            " 33%|███▎      | 2001/6000 [1:10:36<2:18:20,  2.08s/it]"
          ]
        },
        {
          "name": "stdout",
          "output_type": "stream",
          "text": [
            "Checkpointing records with index 6000\n"
          ]
        },
        {
          "name": "stderr",
          "output_type": "stream",
          "text": [
            " 34%|███▍      | 2051/6000 [1:12:20<2:23:44,  2.18s/it]"
          ]
        },
        {
          "name": "stdout",
          "output_type": "stream",
          "text": [
            "Checkpointing records with index 6050\n"
          ]
        },
        {
          "name": "stderr",
          "output_type": "stream",
          "text": [
            " 35%|███▌      | 2101/6000 [1:14:06<2:38:48,  2.44s/it]"
          ]
        },
        {
          "name": "stdout",
          "output_type": "stream",
          "text": [
            "Checkpointing records with index 6100\n"
          ]
        },
        {
          "name": "stderr",
          "output_type": "stream",
          "text": [
            " 36%|███▌      | 2151/6000 [1:16:00<2:33:20,  2.39s/it]"
          ]
        },
        {
          "name": "stdout",
          "output_type": "stream",
          "text": [
            "Checkpointing records with index 6150\n"
          ]
        },
        {
          "name": "stderr",
          "output_type": "stream",
          "text": [
            " 37%|███▋      | 2201/6000 [1:17:45<1:58:47,  1.88s/it]"
          ]
        },
        {
          "name": "stdout",
          "output_type": "stream",
          "text": [
            "Checkpointing records with index 6200\n"
          ]
        },
        {
          "name": "stderr",
          "output_type": "stream",
          "text": [
            " 38%|███▊      | 2251/6000 [1:19:33<2:10:24,  2.09s/it]"
          ]
        },
        {
          "name": "stdout",
          "output_type": "stream",
          "text": [
            "Checkpointing records with index 6250\n"
          ]
        },
        {
          "name": "stderr",
          "output_type": "stream",
          "text": [
            " 38%|███▊      | 2301/6000 [1:21:18<2:06:22,  2.05s/it]"
          ]
        },
        {
          "name": "stdout",
          "output_type": "stream",
          "text": [
            "Checkpointing records with index 6300\n"
          ]
        },
        {
          "name": "stderr",
          "output_type": "stream",
          "text": [
            " 39%|███▉      | 2351/6000 [1:23:04<2:24:25,  2.37s/it]"
          ]
        },
        {
          "name": "stdout",
          "output_type": "stream",
          "text": [
            "Checkpointing records with index 6350\n"
          ]
        },
        {
          "name": "stderr",
          "output_type": "stream",
          "text": [
            " 40%|████      | 2401/6000 [1:24:59<2:29:45,  2.50s/it]"
          ]
        },
        {
          "name": "stdout",
          "output_type": "stream",
          "text": [
            "Checkpointing records with index 6400\n"
          ]
        },
        {
          "name": "stderr",
          "output_type": "stream",
          "text": [
            " 41%|████      | 2451/6000 [1:26:52<2:05:44,  2.13s/it]"
          ]
        },
        {
          "name": "stdout",
          "output_type": "stream",
          "text": [
            "Checkpointing records with index 6450\n"
          ]
        },
        {
          "name": "stderr",
          "output_type": "stream",
          "text": [
            " 42%|████▏     | 2501/6000 [1:28:43<2:14:04,  2.30s/it]"
          ]
        },
        {
          "name": "stdout",
          "output_type": "stream",
          "text": [
            "Checkpointing records with index 6500\n"
          ]
        },
        {
          "name": "stderr",
          "output_type": "stream",
          "text": [
            " 43%|████▎     | 2551/6000 [1:30:30<1:59:05,  2.07s/it]"
          ]
        },
        {
          "name": "stdout",
          "output_type": "stream",
          "text": [
            "Checkpointing records with index 6550\n"
          ]
        },
        {
          "name": "stderr",
          "output_type": "stream",
          "text": [
            " 43%|████▎     | 2601/6000 [1:32:20<2:21:37,  2.50s/it]"
          ]
        },
        {
          "name": "stdout",
          "output_type": "stream",
          "text": [
            "Checkpointing records with index 6600\n"
          ]
        },
        {
          "name": "stderr",
          "output_type": "stream",
          "text": [
            " 44%|████▍     | 2651/6000 [1:34:09<1:57:29,  2.10s/it]"
          ]
        },
        {
          "name": "stdout",
          "output_type": "stream",
          "text": [
            "Checkpointing records with index 6650\n"
          ]
        },
        {
          "name": "stderr",
          "output_type": "stream",
          "text": [
            " 45%|████▌     | 2701/6000 [1:36:04<2:04:53,  2.27s/it]"
          ]
        },
        {
          "name": "stdout",
          "output_type": "stream",
          "text": [
            "Checkpointing records with index 6700\n"
          ]
        },
        {
          "name": "stderr",
          "output_type": "stream",
          "text": [
            " 46%|████▌     | 2751/6000 [1:38:01<1:49:20,  2.02s/it]"
          ]
        },
        {
          "name": "stdout",
          "output_type": "stream",
          "text": [
            "Checkpointing records with index 6750\n"
          ]
        },
        {
          "name": "stderr",
          "output_type": "stream",
          "text": [
            " 47%|████▋     | 2801/6000 [1:39:53<2:03:51,  2.32s/it]"
          ]
        },
        {
          "name": "stdout",
          "output_type": "stream",
          "text": [
            "Checkpointing records with index 6800\n"
          ]
        },
        {
          "name": "stderr",
          "output_type": "stream",
          "text": [
            " 48%|████▊     | 2851/6000 [1:41:51<1:57:27,  2.24s/it]"
          ]
        },
        {
          "name": "stdout",
          "output_type": "stream",
          "text": [
            "Checkpointing records with index 6850\n"
          ]
        },
        {
          "name": "stderr",
          "output_type": "stream",
          "text": [
            " 48%|████▊     | 2901/6000 [1:43:42<1:56:59,  2.27s/it]"
          ]
        },
        {
          "name": "stdout",
          "output_type": "stream",
          "text": [
            "Checkpointing records with index 6900\n"
          ]
        },
        {
          "name": "stderr",
          "output_type": "stream",
          "text": [
            " 49%|████▉     | 2951/6000 [1:45:26<1:40:43,  1.98s/it]"
          ]
        },
        {
          "name": "stdout",
          "output_type": "stream",
          "text": [
            "Checkpointing records with index 6950\n"
          ]
        },
        {
          "name": "stderr",
          "output_type": "stream",
          "text": [
            " 50%|█████     | 3001/6000 [1:47:22<1:50:07,  2.20s/it]"
          ]
        },
        {
          "name": "stdout",
          "output_type": "stream",
          "text": [
            "Checkpointing records with index 7000\n"
          ]
        },
        {
          "name": "stderr",
          "output_type": "stream",
          "text": [
            " 51%|█████     | 3051/6000 [1:49:34<1:43:17,  2.10s/it]"
          ]
        },
        {
          "name": "stdout",
          "output_type": "stream",
          "text": [
            "Checkpointing records with index 7050\n"
          ]
        },
        {
          "name": "stderr",
          "output_type": "stream",
          "text": [
            " 52%|█████▏    | 3101/6000 [1:51:27<1:53:36,  2.35s/it]"
          ]
        },
        {
          "name": "stdout",
          "output_type": "stream",
          "text": [
            "Checkpointing records with index 7100\n"
          ]
        },
        {
          "name": "stderr",
          "output_type": "stream",
          "text": [
            " 53%|█████▎    | 3151/6000 [1:53:20<1:31:58,  1.94s/it]"
          ]
        },
        {
          "name": "stdout",
          "output_type": "stream",
          "text": [
            "Checkpointing records with index 7150\n"
          ]
        },
        {
          "name": "stderr",
          "output_type": "stream",
          "text": [
            " 53%|█████▎    | 3157/6000 [1:53:31<1:28:29,  1.87s/it]"
          ]
        },
        {
          "name": "stdout",
          "output_type": "stream",
          "text": [
            "Wrong value for check_hallucinated_answer, index 7156: answer None\n"
          ]
        },
        {
          "name": "stderr",
          "output_type": "stream",
          "text": [
            " 53%|█████▎    | 3201/6000 [1:55:11<1:35:06,  2.04s/it]"
          ]
        },
        {
          "name": "stdout",
          "output_type": "stream",
          "text": [
            "Checkpointing records with index 7200\n"
          ]
        },
        {
          "name": "stderr",
          "output_type": "stream",
          "text": [
            " 54%|█████▍    | 3251/6000 [1:57:05<1:36:36,  2.11s/it]"
          ]
        },
        {
          "name": "stdout",
          "output_type": "stream",
          "text": [
            "Checkpointing records with index 7250\n"
          ]
        },
        {
          "name": "stderr",
          "output_type": "stream",
          "text": [
            " 55%|█████▌    | 3301/6000 [1:58:55<1:47:36,  2.39s/it]"
          ]
        },
        {
          "name": "stdout",
          "output_type": "stream",
          "text": [
            "Checkpointing records with index 7300\n"
          ]
        },
        {
          "name": "stderr",
          "output_type": "stream",
          "text": [
            " 56%|█████▌    | 3351/6000 [2:00:42<1:46:03,  2.40s/it]"
          ]
        },
        {
          "name": "stdout",
          "output_type": "stream",
          "text": [
            "Checkpointing records with index 7350\n"
          ]
        },
        {
          "name": "stderr",
          "output_type": "stream",
          "text": [
            " 57%|█████▋    | 3401/6000 [2:02:38<1:27:35,  2.02s/it]"
          ]
        },
        {
          "name": "stdout",
          "output_type": "stream",
          "text": [
            "Checkpointing records with index 7400\n"
          ]
        },
        {
          "name": "stderr",
          "output_type": "stream",
          "text": [
            " 58%|█████▊    | 3451/6000 [2:04:30<1:32:59,  2.19s/it]"
          ]
        },
        {
          "name": "stdout",
          "output_type": "stream",
          "text": [
            "Checkpointing records with index 7450\n"
          ]
        },
        {
          "name": "stderr",
          "output_type": "stream",
          "text": [
            " 58%|█████▊    | 3501/6000 [2:06:24<1:38:55,  2.38s/it]"
          ]
        },
        {
          "name": "stdout",
          "output_type": "stream",
          "text": [
            "Checkpointing records with index 7500\n"
          ]
        },
        {
          "name": "stderr",
          "output_type": "stream",
          "text": [
            " 59%|█████▉    | 3551/6000 [2:08:14<1:28:53,  2.18s/it]"
          ]
        },
        {
          "name": "stdout",
          "output_type": "stream",
          "text": [
            "Checkpointing records with index 7550\n"
          ]
        },
        {
          "name": "stderr",
          "output_type": "stream",
          "text": [
            " 60%|██████    | 3601/6000 [2:10:10<1:34:07,  2.35s/it]"
          ]
        },
        {
          "name": "stdout",
          "output_type": "stream",
          "text": [
            "Checkpointing records with index 7600\n"
          ]
        },
        {
          "name": "stderr",
          "output_type": "stream",
          "text": [
            " 61%|██████    | 3651/6000 [2:12:02<1:29:57,  2.30s/it]"
          ]
        },
        {
          "name": "stdout",
          "output_type": "stream",
          "text": [
            "Checkpointing records with index 7650\n"
          ]
        },
        {
          "name": "stderr",
          "output_type": "stream",
          "text": [
            " 62%|██████▏   | 3701/6000 [2:13:49<1:15:58,  1.98s/it]"
          ]
        },
        {
          "name": "stdout",
          "output_type": "stream",
          "text": [
            "Checkpointing records with index 7700\n"
          ]
        },
        {
          "name": "stderr",
          "output_type": "stream",
          "text": [
            " 63%|██████▎   | 3751/6000 [2:15:45<1:34:47,  2.53s/it]"
          ]
        },
        {
          "name": "stdout",
          "output_type": "stream",
          "text": [
            "Checkpointing records with index 7750\n"
          ]
        },
        {
          "name": "stderr",
          "output_type": "stream",
          "text": [
            " 63%|██████▎   | 3801/6000 [2:17:34<1:19:00,  2.16s/it]"
          ]
        },
        {
          "name": "stdout",
          "output_type": "stream",
          "text": [
            "Checkpointing records with index 7800\n"
          ]
        },
        {
          "name": "stderr",
          "output_type": "stream",
          "text": [
            " 64%|██████▍   | 3851/6000 [2:19:29<1:09:12,  1.93s/it]"
          ]
        },
        {
          "name": "stdout",
          "output_type": "stream",
          "text": [
            "Checkpointing records with index 7850\n"
          ]
        },
        {
          "name": "stderr",
          "output_type": "stream",
          "text": [
            " 65%|██████▌   | 3901/6000 [2:21:21<1:20:43,  2.31s/it]"
          ]
        },
        {
          "name": "stdout",
          "output_type": "stream",
          "text": [
            "Checkpointing records with index 7900\n"
          ]
        },
        {
          "name": "stderr",
          "output_type": "stream",
          "text": [
            " 66%|██████▌   | 3951/6000 [2:23:17<1:15:56,  2.22s/it]"
          ]
        },
        {
          "name": "stdout",
          "output_type": "stream",
          "text": [
            "Checkpointing records with index 7950\n"
          ]
        },
        {
          "name": "stderr",
          "output_type": "stream",
          "text": [
            " 67%|██████▋   | 4001/6000 [2:25:10<1:18:16,  2.35s/it]"
          ]
        },
        {
          "name": "stdout",
          "output_type": "stream",
          "text": [
            "Checkpointing records with index 8000\n"
          ]
        },
        {
          "name": "stderr",
          "output_type": "stream",
          "text": [
            " 68%|██████▊   | 4051/6000 [2:27:16<1:14:38,  2.30s/it]"
          ]
        },
        {
          "name": "stdout",
          "output_type": "stream",
          "text": [
            "Checkpointing records with index 8050\n"
          ]
        },
        {
          "name": "stderr",
          "output_type": "stream",
          "text": [
            " 68%|██████▊   | 4101/6000 [2:29:20<1:19:56,  2.53s/it]"
          ]
        },
        {
          "name": "stdout",
          "output_type": "stream",
          "text": [
            "Checkpointing records with index 8100\n"
          ]
        },
        {
          "name": "stderr",
          "output_type": "stream",
          "text": [
            " 69%|██████▉   | 4151/6000 [2:31:13<1:02:11,  2.02s/it]"
          ]
        },
        {
          "name": "stdout",
          "output_type": "stream",
          "text": [
            "Checkpointing records with index 8150\n"
          ]
        },
        {
          "name": "stderr",
          "output_type": "stream",
          "text": [
            " 70%|███████   | 4201/6000 [2:33:02<57:15,  1.91s/it]  "
          ]
        },
        {
          "name": "stdout",
          "output_type": "stream",
          "text": [
            "Checkpointing records with index 8200\n"
          ]
        },
        {
          "name": "stderr",
          "output_type": "stream",
          "text": [
            " 71%|███████   | 4251/6000 [2:34:57<1:09:51,  2.40s/it]"
          ]
        },
        {
          "name": "stdout",
          "output_type": "stream",
          "text": [
            "Checkpointing records with index 8250\n"
          ]
        },
        {
          "name": "stderr",
          "output_type": "stream",
          "text": [
            " 72%|███████▏  | 4301/6000 [2:36:49<1:07:36,  2.39s/it]"
          ]
        },
        {
          "name": "stdout",
          "output_type": "stream",
          "text": [
            "Checkpointing records with index 8300\n"
          ]
        },
        {
          "name": "stderr",
          "output_type": "stream",
          "text": [
            " 73%|███████▎  | 4351/6000 [2:38:40<58:11,  2.12s/it]  "
          ]
        },
        {
          "name": "stdout",
          "output_type": "stream",
          "text": [
            "Checkpointing records with index 8350\n"
          ]
        },
        {
          "name": "stderr",
          "output_type": "stream",
          "text": [
            " 73%|███████▎  | 4401/6000 [2:40:35<52:29,  1.97s/it]  "
          ]
        },
        {
          "name": "stdout",
          "output_type": "stream",
          "text": [
            "Checkpointing records with index 8400\n"
          ]
        },
        {
          "name": "stderr",
          "output_type": "stream",
          "text": [
            " 74%|███████▍  | 4451/6000 [2:42:36<1:08:56,  2.67s/it]"
          ]
        },
        {
          "name": "stdout",
          "output_type": "stream",
          "text": [
            "Checkpointing records with index 8450\n"
          ]
        },
        {
          "name": "stderr",
          "output_type": "stream",
          "text": [
            " 75%|███████▌  | 4501/6000 [2:44:34<1:05:42,  2.63s/it]"
          ]
        },
        {
          "name": "stdout",
          "output_type": "stream",
          "text": [
            "Checkpointing records with index 8500\n"
          ]
        },
        {
          "name": "stderr",
          "output_type": "stream",
          "text": [
            " 76%|███████▌  | 4551/6000 [2:46:33<1:01:16,  2.54s/it]"
          ]
        },
        {
          "name": "stdout",
          "output_type": "stream",
          "text": [
            "Checkpointing records with index 8550\n"
          ]
        },
        {
          "name": "stderr",
          "output_type": "stream",
          "text": [
            " 77%|███████▋  | 4601/6000 [2:48:23<51:09,  2.19s/it]  "
          ]
        },
        {
          "name": "stdout",
          "output_type": "stream",
          "text": [
            "Checkpointing records with index 8600\n"
          ]
        },
        {
          "name": "stderr",
          "output_type": "stream",
          "text": [
            " 78%|███████▊  | 4651/6000 [2:50:18<1:06:31,  2.96s/it]"
          ]
        },
        {
          "name": "stdout",
          "output_type": "stream",
          "text": [
            "Checkpointing records with index 8650\n"
          ]
        },
        {
          "name": "stderr",
          "output_type": "stream",
          "text": [
            " 78%|███████▊  | 4701/6000 [2:52:20<51:21,  2.37s/it]  "
          ]
        },
        {
          "name": "stdout",
          "output_type": "stream",
          "text": [
            "Checkpointing records with index 8700\n"
          ]
        },
        {
          "name": "stderr",
          "output_type": "stream",
          "text": [
            " 79%|███████▉  | 4751/6000 [2:54:13<42:59,  2.07s/it]"
          ]
        },
        {
          "name": "stdout",
          "output_type": "stream",
          "text": [
            "Checkpointing records with index 8750\n"
          ]
        },
        {
          "name": "stderr",
          "output_type": "stream",
          "text": [
            " 80%|████████  | 4801/6000 [2:56:02<44:21,  2.22s/it]"
          ]
        },
        {
          "name": "stdout",
          "output_type": "stream",
          "text": [
            "Checkpointing records with index 8800\n"
          ]
        },
        {
          "name": "stderr",
          "output_type": "stream",
          "text": [
            " 81%|████████  | 4851/6000 [2:57:57<33:47,  1.76s/it]  "
          ]
        },
        {
          "name": "stdout",
          "output_type": "stream",
          "text": [
            "Checkpointing records with index 8850\n"
          ]
        },
        {
          "name": "stderr",
          "output_type": "stream",
          "text": [
            " 82%|████████▏ | 4901/6000 [2:59:58<44:35,  2.43s/it]  "
          ]
        },
        {
          "name": "stdout",
          "output_type": "stream",
          "text": [
            "Checkpointing records with index 8900\n"
          ]
        },
        {
          "name": "stderr",
          "output_type": "stream",
          "text": [
            " 83%|████████▎ | 4951/6000 [3:01:44<35:35,  2.04s/it]"
          ]
        },
        {
          "name": "stdout",
          "output_type": "stream",
          "text": [
            "Checkpointing records with index 8950\n"
          ]
        },
        {
          "name": "stderr",
          "output_type": "stream",
          "text": [
            " 83%|████████▎ | 5001/6000 [3:03:40<39:02,  2.34s/it]"
          ]
        },
        {
          "name": "stdout",
          "output_type": "stream",
          "text": [
            "Checkpointing records with index 9000\n"
          ]
        },
        {
          "name": "stderr",
          "output_type": "stream",
          "text": [
            " 84%|████████▍ | 5051/6000 [3:05:40<41:41,  2.64s/it]"
          ]
        },
        {
          "name": "stdout",
          "output_type": "stream",
          "text": [
            "Checkpointing records with index 9050\n"
          ]
        },
        {
          "name": "stderr",
          "output_type": "stream",
          "text": [
            " 85%|████████▌ | 5101/6000 [3:07:43<30:23,  2.03s/it]"
          ]
        },
        {
          "name": "stdout",
          "output_type": "stream",
          "text": [
            "Checkpointing records with index 9100\n"
          ]
        },
        {
          "name": "stderr",
          "output_type": "stream",
          "text": [
            " 86%|████████▌ | 5151/6000 [3:09:38<31:39,  2.24s/it]"
          ]
        },
        {
          "name": "stdout",
          "output_type": "stream",
          "text": [
            "Checkpointing records with index 9150\n"
          ]
        },
        {
          "name": "stderr",
          "output_type": "stream",
          "text": [
            " 87%|████████▋ | 5201/6000 [3:11:35<29:22,  2.21s/it]"
          ]
        },
        {
          "name": "stdout",
          "output_type": "stream",
          "text": [
            "Checkpointing records with index 9200\n"
          ]
        },
        {
          "name": "stderr",
          "output_type": "stream",
          "text": [
            " 88%|████████▊ | 5251/6000 [3:13:28<24:56,  2.00s/it]"
          ]
        },
        {
          "name": "stdout",
          "output_type": "stream",
          "text": [
            "Checkpointing records with index 9250\n"
          ]
        },
        {
          "name": "stderr",
          "output_type": "stream",
          "text": [
            " 88%|████████▊ | 5301/6000 [3:15:27<26:02,  2.24s/it]"
          ]
        },
        {
          "name": "stdout",
          "output_type": "stream",
          "text": [
            "Checkpointing records with index 9300\n"
          ]
        },
        {
          "name": "stderr",
          "output_type": "stream",
          "text": [
            " 89%|████████▉ | 5351/6000 [3:17:18<25:34,  2.36s/it]"
          ]
        },
        {
          "name": "stdout",
          "output_type": "stream",
          "text": [
            "Checkpointing records with index 9350\n"
          ]
        },
        {
          "name": "stderr",
          "output_type": "stream",
          "text": [
            " 90%|█████████ | 5401/6000 [3:19:16<24:03,  2.41s/it]"
          ]
        },
        {
          "name": "stdout",
          "output_type": "stream",
          "text": [
            "Checkpointing records with index 9400\n"
          ]
        },
        {
          "name": "stderr",
          "output_type": "stream",
          "text": [
            " 91%|█████████ | 5451/6000 [3:21:08<23:29,  2.57s/it]"
          ]
        },
        {
          "name": "stdout",
          "output_type": "stream",
          "text": [
            "Checkpointing records with index 9450\n"
          ]
        },
        {
          "name": "stderr",
          "output_type": "stream",
          "text": [
            " 92%|█████████▏| 5501/6000 [3:22:58<17:18,  2.08s/it]"
          ]
        },
        {
          "name": "stdout",
          "output_type": "stream",
          "text": [
            "Checkpointing records with index 9500\n"
          ]
        },
        {
          "name": "stderr",
          "output_type": "stream",
          "text": [
            " 93%|█████████▎| 5551/6000 [3:24:56<17:38,  2.36s/it]"
          ]
        },
        {
          "name": "stdout",
          "output_type": "stream",
          "text": [
            "Checkpointing records with index 9550\n"
          ]
        },
        {
          "name": "stderr",
          "output_type": "stream",
          "text": [
            " 93%|█████████▎| 5601/6000 [3:26:57<17:24,  2.62s/it]"
          ]
        },
        {
          "name": "stdout",
          "output_type": "stream",
          "text": [
            "Checkpointing records with index 9600\n"
          ]
        },
        {
          "name": "stderr",
          "output_type": "stream",
          "text": [
            " 94%|█████████▍| 5651/6000 [3:28:52<14:03,  2.42s/it]"
          ]
        },
        {
          "name": "stdout",
          "output_type": "stream",
          "text": [
            "Checkpointing records with index 9650\n"
          ]
        },
        {
          "name": "stderr",
          "output_type": "stream",
          "text": [
            " 95%|█████████▌| 5701/6000 [3:30:46<12:12,  2.45s/it]"
          ]
        },
        {
          "name": "stdout",
          "output_type": "stream",
          "text": [
            "Checkpointing records with index 9700\n"
          ]
        },
        {
          "name": "stderr",
          "output_type": "stream",
          "text": [
            " 96%|█████████▌| 5751/6000 [3:32:43<08:55,  2.15s/it]"
          ]
        },
        {
          "name": "stdout",
          "output_type": "stream",
          "text": [
            "Checkpointing records with index 9750\n"
          ]
        },
        {
          "name": "stderr",
          "output_type": "stream",
          "text": [
            " 97%|█████████▋| 5801/6000 [3:34:34<07:31,  2.27s/it]"
          ]
        },
        {
          "name": "stdout",
          "output_type": "stream",
          "text": [
            "Checkpointing records with index 9800\n"
          ]
        },
        {
          "name": "stderr",
          "output_type": "stream",
          "text": [
            " 98%|█████████▊| 5851/6000 [3:36:23<06:05,  2.45s/it]"
          ]
        },
        {
          "name": "stdout",
          "output_type": "stream",
          "text": [
            "Checkpointing records with index 9850\n"
          ]
        },
        {
          "name": "stderr",
          "output_type": "stream",
          "text": [
            " 98%|█████████▊| 5901/6000 [3:38:15<03:18,  2.00s/it]"
          ]
        },
        {
          "name": "stdout",
          "output_type": "stream",
          "text": [
            "Checkpointing records with index 9900\n"
          ]
        },
        {
          "name": "stderr",
          "output_type": "stream",
          "text": [
            " 99%|█████████▉| 5951/6000 [3:40:03<01:48,  2.21s/it]"
          ]
        },
        {
          "name": "stdout",
          "output_type": "stream",
          "text": [
            "Checkpointing records with index 9950\n"
          ]
        },
        {
          "name": "stderr",
          "output_type": "stream",
          "text": [
            "100%|██████████| 6000/6000 [3:41:50<00:00,  2.22s/it]\n"
          ]
        },
        {
          "data": {
            "text/html": [
              "<div>\n",
              "<style scoped>\n",
              "    .dataframe tbody tr th:only-of-type {\n",
              "        vertical-align: middle;\n",
              "    }\n",
              "\n",
              "    .dataframe tbody tr th {\n",
              "        vertical-align: top;\n",
              "    }\n",
              "\n",
              "    .dataframe thead th {\n",
              "        text-align: right;\n",
              "    }\n",
              "</style>\n",
              "<table border=\"1\" class=\"dataframe\">\n",
              "  <thead>\n",
              "    <tr style=\"text-align: right;\">\n",
              "      <th></th>\n",
              "      <th>original_index</th>\n",
              "      <th>label</th>\n",
              "      <th>prediction</th>\n",
              "    </tr>\n",
              "    <tr>\n",
              "      <th>index</th>\n",
              "      <th></th>\n",
              "      <th></th>\n",
              "      <th></th>\n",
              "    </tr>\n",
              "  </thead>\n",
              "  <tbody>\n",
              "    <tr>\n",
              "      <th>0</th>\n",
              "      <td>0</td>\n",
              "      <td>0</td>\n",
              "      <td>0.0</td>\n",
              "    </tr>\n",
              "    <tr>\n",
              "      <th>1</th>\n",
              "      <td>0</td>\n",
              "      <td>1</td>\n",
              "      <td>1.0</td>\n",
              "    </tr>\n",
              "    <tr>\n",
              "      <th>2</th>\n",
              "      <td>1</td>\n",
              "      <td>0</td>\n",
              "      <td>0.0</td>\n",
              "    </tr>\n",
              "    <tr>\n",
              "      <th>3</th>\n",
              "      <td>1</td>\n",
              "      <td>1</td>\n",
              "      <td>1.0</td>\n",
              "    </tr>\n",
              "    <tr>\n",
              "      <th>4</th>\n",
              "      <td>2</td>\n",
              "      <td>0</td>\n",
              "      <td>1.0</td>\n",
              "    </tr>\n",
              "    <tr>\n",
              "      <th>...</th>\n",
              "      <td>...</td>\n",
              "      <td>...</td>\n",
              "      <td>...</td>\n",
              "    </tr>\n",
              "    <tr>\n",
              "      <th>19996</th>\n",
              "      <td>9997</td>\n",
              "      <td>1</td>\n",
              "      <td>0.0</td>\n",
              "    </tr>\n",
              "    <tr>\n",
              "      <th>19997</th>\n",
              "      <td>9998</td>\n",
              "      <td>0</td>\n",
              "      <td>0.0</td>\n",
              "    </tr>\n",
              "    <tr>\n",
              "      <th>19998</th>\n",
              "      <td>9998</td>\n",
              "      <td>1</td>\n",
              "      <td>1.0</td>\n",
              "    </tr>\n",
              "    <tr>\n",
              "      <th>19999</th>\n",
              "      <td>9999</td>\n",
              "      <td>0</td>\n",
              "      <td>0.0</td>\n",
              "    </tr>\n",
              "    <tr>\n",
              "      <th>20000</th>\n",
              "      <td>9999</td>\n",
              "      <td>1</td>\n",
              "      <td>1.0</td>\n",
              "    </tr>\n",
              "  </tbody>\n",
              "</table>\n",
              "<p>20000 rows × 3 columns</p>\n",
              "</div>"
            ],
            "text/plain": [
              "       original_index  label  prediction\n",
              "index                                   \n",
              "0                   0      0         0.0\n",
              "1                   0      1         1.0\n",
              "2                   1      0         0.0\n",
              "3                   1      1         1.0\n",
              "4                   2      0         1.0\n",
              "...               ...    ...         ...\n",
              "19996            9997      1         0.0\n",
              "19997            9998      0         0.0\n",
              "19998            9998      1         1.0\n",
              "19999            9999      0         0.0\n",
              "20000            9999      1         1.0\n",
              "\n",
              "[20000 rows x 3 columns]"
            ]
          },
          "execution_count": 31,
          "metadata": {},
          "output_type": "execute_result"
        }
      ],
      "source": [
        "records = []\n",
        "index = -1\n",
        "for ind in tqdm.tqdm(range(4000, len(halu_ds))):\n",
        "    ex = halu_ds[ind]\n",
        "    check_right_answer = halu_check_model(question=ex['question'], response=ex['right_answer'], context=ex['context'])\n",
        "    check_hallucinated_answer = halu_check_model(question=ex['question'], response=ex['hallucinated_answer'], context=ex['context'])\n",
        "    if check_right_answer is None:\n",
        "        print(f\"Wrong value for check_right_answer, index {ind}: answer {check_right_answer}\")\n",
        "    if check_hallucinated_answer  is None:\n",
        "        print(f\"Wrong value for check_hallucinated_answer, index {ind}: answer {check_hallucinated_answer}\")\n",
        "    if check_right_answer is not None:\n",
        "        check_right_answer = int(check_right_answer)\n",
        "    if check_hallucinated_answer is not None:\n",
        "        check_hallucinated_answer = int(check_hallucinated_answer)\n",
        "    index += 1\n",
        "    records.append({\n",
        "        'index': index,\n",
        "        'original_index': ind,\n",
        "        'label': 0,\n",
        "        'prediction': check_right_answer\n",
        "    })\n",
        "    index += 1\n",
        "    records.append({\n",
        "        'index': index,\n",
        "        'original_index': ind,\n",
        "        'label': 1,\n",
        "        'prediction': check_hallucinated_answer\n",
        "    })\n",
        "    if ind % 50 == 0:\n",
        "        print(f'Checkpointing records with index {ind}')\n",
        "        with open('records.pkl', 'wb') as file:\n",
        "            pickle.dump(records, file)\n",
        "df_results_halu_check = pd.DataFrame.from_records(records, index='index')\n",
        "df_results_halu_check"
      ]
    },
    {
      "cell_type": "code",
      "execution_count": 31,
      "id": "4bfccb1c",
      "metadata": {
        "metadata": {}
      },
      "outputs": [],
      "source": [
        "with open('records.pkl', 'rb') as file:\n",
        "    records = pickle.load(file)\n",
        "df_results_halu_check = pd.DataFrame.from_records(records, index='index')"
      ]
    },
    {
      "cell_type": "code",
      "execution_count": 36,
      "id": "24b8604b",
      "metadata": {
        "metadata": {}
      },
      "outputs": [],
      "source": [
        "# with open('df_results_halu_check.pkl', 'wb') as file:\n",
        "#     pickle.dump(df_results_halu_check, file)"
      ]
    },
    {
      "cell_type": "code",
      "execution_count": 30,
      "id": "efaf93e5",
      "metadata": {
        "metadata": {}
      },
      "outputs": [
        {
          "ename": "EOFError",
          "evalue": "Ran out of input",
          "output_type": "error",
          "traceback": [
            "\u001b[0;31m---------------------------------------------------------------------------\u001b[0m",
            "\u001b[0;31mEOFError\u001b[0m                                  Traceback (most recent call last)",
            "Cell \u001b[0;32mIn[30], line 2\u001b[0m\n\u001b[1;32m      1\u001b[0m \u001b[38;5;28;01mwith\u001b[39;00m \u001b[38;5;28mopen\u001b[39m(\u001b[38;5;124m'\u001b[39m\u001b[38;5;124mdf_results_halu_check.pkl\u001b[39m\u001b[38;5;124m'\u001b[39m, \u001b[38;5;124m'\u001b[39m\u001b[38;5;124mrb\u001b[39m\u001b[38;5;124m'\u001b[39m) \u001b[38;5;28;01mas\u001b[39;00m file:\n\u001b[0;32m----> 2\u001b[0m     df_results_halu_check \u001b[38;5;241m=\u001b[39m \u001b[43mpickle\u001b[49m\u001b[38;5;241;43m.\u001b[39;49m\u001b[43mload\u001b[49m\u001b[43m(\u001b[49m\u001b[43mfile\u001b[49m\u001b[43m)\u001b[49m\n",
            "\u001b[0;31mEOFError\u001b[0m: Ran out of input"
          ]
        }
      ],
      "source": [
        "with open('df_results_halu_check.pkl', 'rb') as file:\n",
        "    df_results_halu_check = pickle.load(file)"
      ]
    },
    {
      "cell_type": "code",
      "execution_count": 33,
      "id": "106ac1ee",
      "metadata": {
        "metadata": {}
      },
      "outputs": [],
      "source": [
        "df_results_halu_check.dropna(inplace=True)"
      ]
    },
    {
      "cell_type": "code",
      "execution_count": 34,
      "id": "753258d3",
      "metadata": {
        "metadata": {}
      },
      "outputs": [
        {
          "data": {
            "text/plain": [
              "{'0': {'precision': 0.7223054482377986,\n",
              "  'recall': 0.9207035175879397,\n",
              "  'f1-score': 0.809525913489153,\n",
              "  'support': 9950.0},\n",
              " '1': {'precision': 0.8906747956214494,\n",
              "  'recall': 0.6460301507537688,\n",
              "  'f1-score': 0.7488786625502417,\n",
              "  'support': 9950.0},\n",
              " 'accuracy': 0.7833668341708543,\n",
              " 'macro avg': {'precision': 0.806490121929624,\n",
              "  'recall': 0.7833668341708542,\n",
              "  'f1-score': 0.7792022880196974,\n",
              "  'support': 19900.0},\n",
              " 'weighted avg': {'precision': 0.806490121929624,\n",
              "  'recall': 0.7833668341708543,\n",
              "  'f1-score': 0.7792022880196974,\n",
              "  'support': 19900.0}}"
            ]
          },
          "execution_count": 34,
          "metadata": {},
          "output_type": "execute_result"
        }
      ],
      "source": [
        "from sklearn.metrics import classification_report\n",
        "classification_report(y_true=df_results_halu_check.loc[:,'label'], y_pred=df_results_halu_check.loc[:,'prediction'], output_dict=True)"
      ]
    },
    {
      "cell_type": "code",
      "execution_count": 35,
      "id": "a1079c3e",
      "metadata": {
        "metadata": {}
      },
      "outputs": [
        {
          "data": {
            "text/plain": [
              "(9161, 789, 3522, 6428)"
            ]
          },
          "execution_count": 35,
          "metadata": {},
          "output_type": "execute_result"
        }
      ],
      "source": [
        "from sklearn.metrics import confusion_matrix\n",
        "tn, fp, fn, tp = confusion_matrix(y_true=df_results_halu_check.loc[:,'label'], y_pred=df_results_halu_check.loc[:,'prediction']).ravel()\n",
        "(tn, fp, fn, tp)"
      ]
    }
  ],
  "metadata": {
    "colab": {
      "provenance": []
    },
    "kernelspec": {
      "display_name": "Python 3 (ipykernel)",
      "language": "python",
      "name": "python3"
    },
    "language_info": {
      "codemirror_mode": {
        "name": "ipython",
        "version": 3
      },
      "file_extension": ".py",
      "mimetype": "text/x-python",
      "name": "python",
      "nbconvert_exporter": "python",
      "pygments_lexer": "ipython3",
      "version": "3.10.12"
    }
  },
  "nbformat": 4,
  "nbformat_minor": 5
}
